{
 "cells": [
  {
   "cell_type": "code",
   "execution_count": 8,
   "id": "1d9ae7f8",
   "metadata": {
    "collapsed": true
   },
   "outputs": [],
   "source": [
    "import time\n",
    "import cv2\n",
    "import numpy as np\n",
    "from tensorflow.keras.models import load_model\n",
    "from tensorflow.keras.preprocessing import image\n",
    "model = load_model(r\"D:\\Data\\Desktop\\ML ProjectDeaf and Dumb\\Flask\\gesture-copy.h5\")\n",
    "video = cv2.VideoCapture(0)\n",
    "Index = [\"A\",\"B\",\"D\"]\n",
    "count = 0\n",
    "while True:\n",
    "    success,frame = video.read()\n",
    "    frame = cv2.resize(frame, (854,480))\n",
    "    cv2.imwrite('image.jpg',frame)\n",
    "    img = image.load_img('image.jpg',grayscale=True,target_size=(64,64))\n",
    "    x = image.img_to_array(img)\n",
    "    x = np.expand_dims(x,axis = 0)\n",
    "    pred = model.predict(x)\n",
    "    #pred_array = pred.astype(int)\n",
    "    p = pred[0]\n",
    "    if pred[0][0] == 0:\n",
    "        cv2.putText(frame,''+'Detected A',(100,100),cv2.FONT_HERSHEY_SIMPLEX,1,(255,255,0),4)\n",
    "    elif pred[0][0]==1:\n",
    "        cv2.putText(frame,''+'Detected B',(100,100),cv2.FONT_HERSHEY_SIMPLEX,1,(255,255,0),4)\n",
    "    else:  \n",
    "        cv2.putText(frame,''+'Detected D',(100,100),cv2.FONT_HERSHEY_SIMPLEX,1,(255,255,0),4)\n",
    "    \n",
    "    cv2.imshow('OutputWindow',frame)\n",
    "    #count = count + 1\n",
    "    #time.sleep(1)\n",
    "    \n",
    "    if cv2.waitKey(1) & 0xFF == ord('q'):\n",
    "        break\n",
    "\n",
    "video.release()\n",
    "cv2.destroyAllWindows()"
   ]
  },
  {
   "cell_type": "code",
   "execution_count": null,
   "id": "0923007c",
   "metadata": {},
   "outputs": [],
   "source": []
  }
 ],
 "metadata": {
  "kernelspec": {
   "display_name": "Python 3",
   "language": "python",
   "name": "python3"
  },
  "language_info": {
   "codemirror_mode": {
    "name": "ipython",
    "version": 3
   },
   "file_extension": ".py",
   "mimetype": "text/x-python",
   "name": "python",
   "nbconvert_exporter": "python",
   "pygments_lexer": "ipython3",
   "version": "3.8.8"
  }
 },
 "nbformat": 4,
 "nbformat_minor": 5
}
