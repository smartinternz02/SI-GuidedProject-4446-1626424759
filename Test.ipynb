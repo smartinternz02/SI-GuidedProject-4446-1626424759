{
 "cells": [
  {
   "cell_type": "code",
   "execution_count": 3,
   "id": "01275326",
   "metadata": {},
   "outputs": [],
   "source": [
    "import numpy as np\n",
    "import cv2\n",
    "from tensorflow.keras.models import load_model\n",
    "from keras.preprocessing import image\n",
    "model=load_model(r\"D:\\Data\\Desktop\\ML ProjectDeaf and Dumb\\Flask\\gesture-copy.h5\")"
   ]
  },
  {
   "cell_type": "code",
   "execution_count": 4,
   "id": "d34fab22",
   "metadata": {},
   "outputs": [],
   "source": [
    "from skimage.transform import resize\n",
    "def detect(frame):\n",
    "        img = resize(frame,(64,64,1))\n",
    "        img = np.expand_dims(img,axis=0)\n",
    "        if(np.max(img)>1):\n",
    "            img = img/255.0\n",
    "        prediction = model.predict(img)\n",
    "        print(prediction)\n",
    "        prediction = model.predict_classes(img)\n",
    "        print(prediction)"
   ]
  },
  {
   "cell_type": "code",
   "execution_count": 11,
   "id": "726c5995",
   "metadata": {},
   "outputs": [
    {
     "name": "stdout",
     "output_type": "stream",
     "text": [
      "[[1.4274982e-04 9.9981207e-01 4.5174955e-05]]\n",
      "[1]\n"
     ]
    }
   ],
   "source": [
    "frame=cv2.imread(r\"D:\\Data\\Desktop\\ML ProjectDeaf and Dumb\\Dataset\\test_set\\B\\2.png\")\n",
    "data = detect(frame)"
   ]
  },
  {
   "cell_type": "code",
   "execution_count": 13,
   "id": "1e6d0ced",
   "metadata": {},
   "outputs": [
    {
     "data": {
      "text/plain": [
       "array([2], dtype=int64)"
      ]
     },
     "execution_count": 13,
     "metadata": {},
     "output_type": "execute_result"
    }
   ],
   "source": [
    "img=image.load_img(r\"D:\\Data\\Desktop\\ML ProjectDeaf and Dumb\\Dataset\\test_set\\D\\2.png\",grayscale=True,target_size=(64,64))\n",
    "x=image.img_to_array(img)\n",
    "x=np.expand_dims(x,axis=0)\n",
    "pred=model.predict_classes(x)\n",
    "pred"
   ]
  },
  {
   "cell_type": "code",
   "execution_count": 14,
   "id": "6b5bede9",
   "metadata": {},
   "outputs": [],
   "source": [
    "index=['A','B','D']\n",
    "result=str(index[pred[0]])"
   ]
  },
  {
   "cell_type": "code",
   "execution_count": 15,
   "id": "f352ec7e",
   "metadata": {},
   "outputs": [
    {
     "data": {
      "text/plain": [
       "'D'"
      ]
     },
     "execution_count": 15,
     "metadata": {},
     "output_type": "execute_result"
    }
   ],
   "source": [
    "result"
   ]
  },
  {
   "cell_type": "code",
   "execution_count": null,
   "id": "118d5ddc",
   "metadata": {},
   "outputs": [],
   "source": []
  }
 ],
 "metadata": {
  "kernelspec": {
   "display_name": "Python 3",
   "language": "python",
   "name": "python3"
  },
  "language_info": {
   "codemirror_mode": {
    "name": "ipython",
    "version": 3
   },
   "file_extension": ".py",
   "mimetype": "text/x-python",
   "name": "python",
   "nbconvert_exporter": "python",
   "pygments_lexer": "ipython3",
   "version": "3.8.8"
  }
 },
 "nbformat": 4,
 "nbformat_minor": 5
}
